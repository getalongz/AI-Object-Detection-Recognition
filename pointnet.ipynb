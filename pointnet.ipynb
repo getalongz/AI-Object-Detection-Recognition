{
 "cells": [
  {
   "cell_type": "code",
   "execution_count": 1,
   "id": "70151405",
   "metadata": {
    "_cell_guid": "b1076dfc-b9ad-4769-8c92-a6c4dae69d19",
    "_uuid": "8f2839f25d086af736a60e9eeb907d3b93b6e0e5",
    "execution": {
     "iopub.execute_input": "2023-01-28T13:40:37.036340Z",
     "iopub.status.busy": "2023-01-28T13:40:37.035749Z",
     "iopub.status.idle": "2023-01-28T13:40:37.048290Z",
     "shell.execute_reply": "2023-01-28T13:40:37.047241Z"
    },
    "papermill": {
     "duration": 0.020688,
     "end_time": "2023-01-28T13:40:37.051063",
     "exception": false,
     "start_time": "2023-01-28T13:40:37.030375",
     "status": "completed"
    },
    "tags": []
   },
   "outputs": [],
   "source": [
    "# This Python 3 environment comes with many helpful analytics libraries installed\n",
    "# It is defined by the kaggle/python Docker image: https://github.com/kaggle/docker-python\n",
    "# For example, here's several helpful packages to load\n",
    "\n",
    "import numpy as np # linear algebra\n",
    "import pandas as pd # data processing, CSV file I/O (e.g. pd.read_csv)\n",
    "\n",
    "# Input data files are available in the read-only \"../input/\" directory\n",
    "# For example, running this (by clicking run or pressing Shift+Enter) will list all files under the input directory\n",
    "\n",
    "import os\n",
    "for dirname, _, filenames in os.walk('/kaggle/input'):\n",
    "    for filename in filenames:\n",
    "        print(os.path.join(dirname, filename))\n",
    "\n",
    "# You can write up to 20GB to the current directory (/kaggle/working/) that gets preserved as output when you create a version using \"Save & Run All\" \n",
    "# You can also write temporary files to /kaggle/temp/, but they won't be saved outside of the current session"
   ]
  },
  {
   "cell_type": "code",
   "execution_count": 2,
   "id": "a59e8446",
   "metadata": {
    "execution": {
     "iopub.execute_input": "2023-01-28T13:40:37.058222Z",
     "iopub.status.busy": "2023-01-28T13:40:37.057278Z",
     "iopub.status.idle": "2023-01-28T13:40:42.385476Z",
     "shell.execute_reply": "2023-01-28T13:40:42.383898Z"
    },
    "papermill": {
     "duration": 5.334928,
     "end_time": "2023-01-28T13:40:42.388517",
     "exception": false,
     "start_time": "2023-01-28T13:40:37.053589",
     "status": "completed"
    },
    "tags": []
   },
   "outputs": [
    {
     "name": "stdout",
     "output_type": "stream",
     "text": [
      "Cloning into 'Pointnet_Pointnet2_pytorch'...\r\n",
      "remote: Enumerating objects: 842, done.\u001b[K\r\n",
      "remote: Counting objects: 100% (16/16), done.\u001b[K\r\n",
      "remote: Compressing objects: 100% (11/11), done.\u001b[K\r\n",
      "remote: Total 842 (delta 7), reused 12 (delta 5), pack-reused 826\u001b[K\r\n",
      "Receiving objects: 100% (842/842), 68.77 MiB | 29.99 MiB/s, done.\r\n",
      "Resolving deltas: 100% (485/485), done.\r\n"
     ]
    }
   ],
   "source": [
    "!git clone https://github.com/getalongz/Pointnet_Pointnet2_pytorch.git"
   ]
  },
  {
   "cell_type": "code",
   "execution_count": 3,
   "id": "91917f83",
   "metadata": {
    "execution": {
     "iopub.execute_input": "2023-01-28T13:40:42.397613Z",
     "iopub.status.busy": "2023-01-28T13:40:42.397092Z",
     "iopub.status.idle": "2023-01-28T13:40:42.414704Z",
     "shell.execute_reply": "2023-01-28T13:40:42.413190Z"
    },
    "papermill": {
     "duration": 0.025523,
     "end_time": "2023-01-28T13:40:42.417499",
     "exception": false,
     "start_time": "2023-01-28T13:40:42.391976",
     "status": "completed"
    },
    "tags": []
   },
   "outputs": [
    {
     "name": "stdout",
     "output_type": "stream",
     "text": [
      "/kaggle/working/Pointnet_Pointnet2_pytorch\n"
     ]
    }
   ],
   "source": [
    "cd Pointnet_Pointnet2_pytorch"
   ]
  },
  {
   "cell_type": "code",
   "execution_count": null,
   "id": "b2c94830",
   "metadata": {
    "papermill": {
     "duration": 0.002971,
     "end_time": "2023-01-28T13:40:42.424159",
     "exception": false,
     "start_time": "2023-01-28T13:40:42.421188",
     "status": "completed"
    },
    "scrolled": true,
    "tags": []
   },
   "outputs": [],
   "source": []
  }
 ],
 "metadata": {
  "kernelspec": {
   "display_name": "Python 3",
   "language": "python",
   "name": "python3"
  },
  "language_info": {
   "codemirror_mode": {
    "name": "ipython",
    "version": 3
   },
   "file_extension": ".py",
   "mimetype": "text/x-python",
   "name": "python",
   "nbconvert_exporter": "python",
   "pygments_lexer": "ipython3",
   "version": "3.7.12"
  },
  "papermill": {
   "default_parameters": {},
   "duration": 16.402692,
   "end_time": "2023-01-28T13:40:43.452372",
   "environment_variables": {},
   "exception": null,
   "input_path": "__notebook__.ipynb",
   "output_path": "__notebook__.ipynb",
   "parameters": {},
   "start_time": "2023-01-28T13:40:27.049680",
   "version": "2.3.4"
  }
 },
 "nbformat": 4,
 "nbformat_minor": 5
}
